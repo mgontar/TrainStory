{
 "cells": [
  {
   "cell_type": "markdown",
   "metadata": {
    "collapsed": true
   },
   "source": [
    "https://booking.uz.gov.ua/mobile/train_search/station/?term=З.п.669+Км"
   ]
  },
  {
   "cell_type": "markdown",
   "metadata": {
    "collapsed": true
   },
   "source": [
    "POST /mobile/train_search/ HTTP/1.1\n",
    "Host: booking.uz.gov.ua\n",
    "Content-Type: application/x-www-form-urlencoded\n",
    "Cache-Control: no-cache\n",
    "Postman-Token: 56813cdf-9214-dfd1-4d1f-fc58dc4b19b8\n",
    "\n",
    "date=2017-12-27&from=2200001&time=00%3A00&to=2204001&get_tpl=1"
   ]
  },
  {
   "cell_type": "markdown",
   "metadata": {
    "collapsed": true
   },
   "source": [
    "POST /mobile/train_wagons/ HTTP/1.1\n",
    "Host: booking.uz.gov.ua\n",
    "Content-Type: application/x-www-form-urlencoded\n",
    "Cache-Control: no-cache\n",
    "Postman-Token: ced0c0d4-6f77-6a30-5f2e-6ce7dc3b47b3\n",
    "\n",
    "date=2017-12-27&from=2200001&to=2204001&train=064%D0%9A"
   ]
  },
  {
   "cell_type": "code",
   "execution_count": null,
   "metadata": {
    "collapsed": true
   },
   "outputs": [],
   "source": [
    "import certifi\n",
    "import urllib3\n",
    "import urllib.parse\n",
    "import csv\n",
    "import json\n",
    "import re\n",
    "import pandas as pd\n",
    "import numpy as np"
   ]
  },
  {
   "cell_type": "code",
   "execution_count": null,
   "metadata": {
    "collapsed": true
   },
   "outputs": [],
   "source": [
    "search_station_url = 'https://booking.uz.gov.ua/mobile/train_search/station/?term='\n",
    "alphabet = 'абвгґдеєжзийклмніїопрстуфхцчшщьюяъыэё'"
   ]
  },
  {
   "cell_type": "code",
   "execution_count": null,
   "metadata": {
    "collapsed": false
   },
   "outputs": [],
   "source": [
    "df_stations_sched = pd.read_csv('stations_all.csv')\n",
    "df_stations_sched['name'].replace('Ім.тараса  Шевченка', 'Ім. Тараса  Шевченка', inplace=True)\n",
    "df_stations_sched['name'].replace('Просяна Ім.приклонського В.в.', \n",
    "                                  'Просяна Ім. Приклонського В. В.', inplace=True)\n",
    "df_stations_sched['name'].replace('Ім.бориса Олійника', 'Ім. Бориса Олійника', inplace=True)\n",
    "df_stations_sched['name'].replace('Ім.олега Крючкова', 'Ім. Олега Крючкова', inplace=True)"
   ]
  },
  {
   "cell_type": "code",
   "execution_count": null,
   "metadata": {
    "collapsed": true
   },
   "outputs": [],
   "source": [
    "def getBookingStationInfo(station_name):\n",
    "    #http = urllib3.PoolManager()\n",
    "    http = urllib3.PoolManager(cert_reqs='CERT_REQUIRED', ca_certs=certifi.where())\n",
    "    station_url_full = search_station_url+urllib.parse.quote(station_name, safe='')\n",
    "    #print('GET url: '+station_url_full)\n",
    "    request = http.request('GET', station_url_full)\n",
    "    json_data = request.data.decode('utf-8')\n",
    "    #print(json_data) \n",
    "    loaded_json = json.loads(json_data)\n",
    "    return loaded_json"
   ]
  },
  {
   "cell_type": "code",
   "execution_count": null,
   "metadata": {
    "collapsed": false
   },
   "outputs": [],
   "source": [
    "#print(getBookingStationInfo(all_stations[0][1]))\n",
    "#print(getBookingStationInfo('Гали'))"
   ]
  },
  {
   "cell_type": "code",
   "execution_count": null,
   "metadata": {
    "collapsed": false
   },
   "outputs": [],
   "source": [
    "for char1 in alphabet:\n",
    "    for char2 in alphabet:\n",
    "        for char3 in alphabet:\n",
    "            for char4 in alphabet:\n",
    "                for char5 in alphabet:\n",
    "                    token = char1+char2+char3+char4+char5\n",
    "                    if token."
   ]
  },
  {
   "cell_type": "code",
   "execution_count": null,
   "metadata": {
    "collapsed": false
   },
   "outputs": [],
   "source": [
    "print(len(char_pairs))"
   ]
  },
  {
   "cell_type": "code",
   "execution_count": null,
   "metadata": {
    "collapsed": false
   },
   "outputs": [],
   "source": [
    "booking_stations_list = []\n",
    "for index_sched, row_sched in df_stations_sched.iterrows():\n",
    "    token = row_sched['name']\n",
    "    book_stations = getBookingStationInfo(token)\n",
    "    if (len(book_stations) == 0):\n",
    "        token = token[:-1]\n",
    "        book_stations = getBookingStationInfo(token)\n",
    "    if (len(book_stations) == 0):\n",
    "        token = token[:-2]\n",
    "        book_stations = getBookingStationInfo(token)\n",
    "    if (len(book_stations) > 0):\n",
    "        for book_station in book_stations:\n",
    "            station_id = book_station['value']\n",
    "            station_title = book_station['title']\n",
    "            station_region = book_station['region']\n",
    "            station = {\"id\":station_id, \"name\":station_title, \"region\":station_region}\n",
    "            if station not in booking_stations_list:\n",
    "                booking_stations_list.append(station)\n",
    "    else:\n",
    "        print('No booking stations for name\\''+ row_sched['name'] +'\\' id:'+ str(row_sched['id']))\n",
    "        \n",
    "df_booking_stations = pd.DataFrame(booking_stations_list)\n",
    "df_booking_stations.to_csv('booking_stations_from_sched.csv', index=False, encoding='utf-8')"
   ]
  },
  {
   "cell_type": "code",
   "execution_count": null,
   "metadata": {
    "collapsed": false
   },
   "outputs": [],
   "source": [
    "all_booking_stations = {}\n",
    "for char_pair in char_pairs:\n",
    "    booking_stations = getBookingStationInfo(char_pair)\n",
    "    if (len(booking_stations) > 0):\n",
    "        booking_stations_list = []\n",
    "        for booking_station in booking_stations:\n",
    "            booking_station_id = booking_station['value']\n",
    "            booking_station_title = booking_station['title']\n",
    "            if booking_station_id not in all_booking_stations:\n",
    "                all_booking_stations[booking_station_id] = booking_station_title\n",
    "    else:\n",
    "        print('No booking stations for token \\''+ char_pair +'\\'')"
   ]
  },
  {
   "cell_type": "code",
   "execution_count": null,
   "metadata": {
    "collapsed": false
   },
   "outputs": [],
   "source": [
    "csv_file_name = 'booking_stations_all_2.csv'\n",
    "with open(csv_file_name, 'w', newline='', encoding = \"utf-8\") as csv_file:        \n",
    "    writer = csv.writer(csv_file)\n",
    "    for key in all_booking_stations:\n",
    "        writer.writerow([key, all_booking_stations[key]])\n",
    "    print('All stations table saved to file: '+csv_file_name)"
   ]
  }
 ],
 "metadata": {
  "kernelspec": {
   "display_name": "Python 3",
   "language": "python",
   "name": "python3"
  },
  "language_info": {
   "codemirror_mode": {
    "name": "ipython",
    "version": 3
   },
   "file_extension": ".py",
   "mimetype": "text/x-python",
   "name": "python",
   "nbconvert_exporter": "python",
   "pygments_lexer": "ipython3",
   "version": "3.6.0"
  }
 },
 "nbformat": 4,
 "nbformat_minor": 2
}
