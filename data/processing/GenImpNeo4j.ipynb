{
 "cells": [
  {
   "cell_type": "code",
   "execution_count": 1,
   "metadata": {
    "collapsed": true
   },
   "outputs": [],
   "source": [
    "import pandas as pd\n",
    "import numpy as np\n",
    "from dateutil import parser\n",
    "from datetime import timedelta\n",
    "from datetime import date\n",
    "from datetime import datetime\n",
    "from datetime import time\n",
    "from IPython.display import clear_output\n",
    "from tqdm import tnrange, tqdm_notebook\n",
    "from time import sleep"
   ]
  },
  {
   "cell_type": "code",
   "execution_count": null,
   "metadata": {
    "collapsed": true
   },
   "outputs": [],
   "source": [
    "print(datetime.fromtimestamp(1530749280))"
   ]
  },
  {
   "cell_type": "code",
   "execution_count": null,
   "metadata": {
    "collapsed": true
   },
   "outputs": [],
   "source": [
    "d = date(2018, 7, 1)\n",
    "print(d)\n",
    "t = parser.parse(\"16:30\").time()\n",
    "print(t)\n",
    "dt =  datetime.combine(d, t)\n",
    "print(dt)\n",
    "dt = dt + timedelta(minutes=2400)\n",
    "print(dt)\n",
    "print(dt.timestamp() + 10*60)"
   ]
  },
  {
   "cell_type": "code",
   "execution_count": 2,
   "metadata": {
    "collapsed": true
   },
   "outputs": [],
   "source": [
    "df = pd.read_csv('stops_all.csv')\n",
    "train_id_list = df.train_id.unique()"
   ]
  },
  {
   "cell_type": "code",
   "execution_count": 3,
   "metadata": {
    "collapsed": true
   },
   "outputs": [],
   "source": [
    "df_stations = pd.read_csv('stations_all.csv')\n",
    "station_id_list = df_stations.id.unique()\n",
    "df_stations[':LABEL'] = \"Station\"\n",
    "df_stations.columns = ['station_id:ID(Station-ID)', 'name', ':LABEL']\n",
    "df_stations.to_csv('graph_stations.csv', index=False, encoding='utf-8')"
   ]
  },
  {
   "cell_type": "code",
   "execution_count": 4,
   "metadata": {
    "collapsed": true
   },
   "outputs": [],
   "source": [
    "df_trains = pd.read_csv('trains_all.csv')\n",
    "df_trains = df_trains.drop(['description','travel_time'], 1)\n",
    "df_trains[':LABEL'] = \"Train\"\n",
    "df_trains.columns = ['train_id:ID(Train-ID)', 'number', 'name', ':LABEL']\n",
    "df_trains.to_csv('graph_trains.csv', index=False, encoding='utf-8')"
   ]
  },
  {
   "cell_type": "code",
   "execution_count": 5,
   "metadata": {
    "collapsed": false
   },
   "outputs": [
    {
     "name": "stdout",
     "output_type": "stream",
     "text": [
      "[datetime.date(2018, 7, 1), datetime.date(2018, 7, 2), datetime.date(2018, 7, 3), datetime.date(2018, 7, 4), datetime.date(2018, 7, 5), datetime.date(2018, 7, 6), datetime.date(2018, 7, 7)]\n"
     ]
    }
   ],
   "source": [
    "day_list = []\n",
    "start_day = date(2018, 7, 1)\n",
    "for x in range(0, 7):\n",
    "    day = start_day+timedelta(days=x)\n",
    "    day_list.append(day)\n",
    "print(day_list)"
   ]
  },
  {
   "cell_type": "code",
   "execution_count": 6,
   "metadata": {
    "collapsed": true
   },
   "outputs": [],
   "source": [
    "def getTimestamp(date_from, time_from, travel_minutes):\n",
    "    t = parser.parse(time_from).time()\n",
    "    dt =  datetime.combine(date_from, t)\n",
    "    dt = dt + timedelta(minutes=travel_minutes)\n",
    "    return dt.timestamp()"
   ]
  },
  {
   "cell_type": "code",
   "execution_count": null,
   "metadata": {
    "collapsed": true
   },
   "outputs": [],
   "source": [
    "getTimestamp(date(2018,7,1), \"16:30\", 2400)"
   ]
  },
  {
   "cell_type": "code",
   "execution_count": 7,
   "metadata": {
    "collapsed": true
   },
   "outputs": [],
   "source": [
    "def timeDiff(time_from, time_to, prev_minutes):\n",
    "    prev_hours = prev_minutes // 60\n",
    "    td = parser.parse(time_to) - parser.parse(time_from)\n",
    "    hours = td.total_seconds() // 3600\n",
    "    #print(hours)\n",
    "    #print(hours - prev_hours)\n",
    "    if hours > 12 :\n",
    "        #print(\"-12h\")\n",
    "        td = td - timedelta(hours=12)\n",
    "    if hours < prev_hours:\n",
    "        #print(\"+24h\")\n",
    "        td = td + timedelta(hours=24)\n",
    "        #print(td)\n",
    "        #print(td.total_seconds())\n",
    "    minutes = td.total_seconds() // 60\n",
    "    return minutes"
   ]
  },
  {
   "cell_type": "code",
   "execution_count": 8,
   "metadata": {
    "collapsed": true
   },
   "outputs": [],
   "source": [
    "def updateGraphForTrainId(train_id):\n",
    "    df_train = df.loc[df.train_id == train_id].copy()\n",
    "    for index_from, row_from in df_train.iterrows():\n",
    "        prev_minutes = 0\n",
    "        for index_to, row_to in df_train.loc[index_from+1:,].iterrows():\n",
    "            travel_time = timeDiff(row_from.departure_time, row_to.arrival_time, prev_minutes)            \n",
    "            for day in day_list:  \n",
    "                ts_dep = getTimestamp(day, row_from.departure_time, prev_minutes)\n",
    "                event_dep_id = str(train_id)+\":\"+str(row_from.station_id)+\":\"+str(int(ts_dep))+\":dep\"\n",
    "                event_dep = (event_dep_id, train_id, row_from.station_id, int(ts_dep), \"Event;Departure\")\n",
    "                event_list.append(event_dep)\n",
    "                \n",
    "                train_event_dep = (train_id, event_dep_id,\"DEPARTED\", 0)\n",
    "                train_event_dep_list.append(train_event_dep)\n",
    "                \n",
    "                station_event_dep = (row_from.station_id, event_dep_id,\"AT_STATION\", 0)\n",
    "                station_event_dep_list.append(station_event_dep)\n",
    "                \n",
    "                #print(str(train_id)+\":\"+str(row_to.station_id))\n",
    "                ts_arr = getTimestamp(day, row_to.arrival_time, travel_time)\n",
    "                # custom feature\n",
    "                ts_arr = ts_arr + 10*60\n",
    "                event_arr_id = str(train_id)+\":\"+str(row_to.station_id)+\":\"+str(int(ts_arr))+\":arr\"\n",
    "                event_arr = (event_arr_id, train_id, row_to.station_id, int(ts_arr), \"Event;Arrival\")\n",
    "                event_list.append(event_arr)\n",
    "                \n",
    "                train_event_arr = (event_arr_id, train_id,\"ARRIVED\", 0)\n",
    "                train_event_arr_list.append(train_event_arr)\n",
    "                \n",
    "                station_event_arr = (event_arr_id, row_to.station_id,\"AT_STATION\", 0)\n",
    "                station_event_arr_list.append(station_event_arr)\n",
    "                \n",
    "                trip = (event_dep_id, train_id, int(travel_time + 10), event_arr_id, \"TRAVEL_TO\")\n",
    "                trip_list.append(trip)\n",
    "            prev_minutes = travel_time\n",
    "    return"
   ]
  },
  {
   "cell_type": "code",
   "execution_count": 9,
   "metadata": {
    "collapsed": true
   },
   "outputs": [],
   "source": [
    "trip_list = []\n",
    "event_list = []\n",
    "station_event_dep_list = []\n",
    "station_event_arr_list = []\n",
    "train_event_dep_list = []\n",
    "train_event_arr_list = []\n",
    "for train_id in train_id_list: \n",
    "    updateGraphForTrainId(train_id)\n",
    "event_list = list(set(event_list))"
   ]
  },
  {
   "cell_type": "code",
   "execution_count": 11,
   "metadata": {
    "collapsed": true
   },
   "outputs": [],
   "source": [
    "columns = ['event_id:ID(Event-ID)', 'train_id(Train-ID)', 'station_id(Station-ID)', 'timestamp:double', ':LABEL']\n",
    "df_events = pd.DataFrame(event_list, columns=columns)\n",
    "df_events.to_csv('graph_events.csv', index=False)"
   ]
  },
  {
   "cell_type": "code",
   "execution_count": 10,
   "metadata": {
    "collapsed": true
   },
   "outputs": [],
   "source": [
    "columns = [':START_ID(Event-ID)', 'train_id(Train-ID)', 'travel_time:int', ':END_ID(Event-ID)', ':TYPE']\n",
    "df_trips = pd.DataFrame(trip_list, columns=columns)\n",
    "df_trips.to_csv('graph_trips.csv', index=False)"
   ]
  },
  {
   "cell_type": "code",
   "execution_count": 19,
   "metadata": {
    "collapsed": true
   },
   "outputs": [],
   "source": [
    "columns = [':START_ID(Event-ID)', ':END_ID(Station-ID)', ':TYPE', 'travel_time:int']\n",
    "df_station_events = pd.DataFrame(station_event_arr_list, columns=columns)\n",
    "df_station_events.to_csv('graph_station_events_arr.csv', index=False)\n",
    "\n",
    "columns = [':START_ID(Station-ID)', ':END_ID(Event-ID)', ':TYPE', 'travel_time:int']\n",
    "df_station_events = pd.DataFrame(station_event_dep_list, columns=columns)\n",
    "df_station_events.to_csv('graph_station_events_dep.csv', index=False)"
   ]
  },
  {
   "cell_type": "code",
   "execution_count": 20,
   "metadata": {
    "collapsed": true
   },
   "outputs": [],
   "source": [
    "columns = [':START_ID(Event-ID)', ':END_ID(Train-ID)', ':TYPE', 'travel_time:int']\n",
    "df_train_events = pd.DataFrame(train_event_arr_list, columns=columns)\n",
    "df_train_events.to_csv('graph_train_events_arr.csv', index=False)\n",
    "\n",
    "columns = [':START_ID(Train-ID)', ':END_ID(Event-ID)', ':TYPE', 'travel_time:int']\n",
    "df_train_events = pd.DataFrame(train_event_dep_list, columns=columns)\n",
    "df_train_events.to_csv('graph_train_events_dep.csv', index=False)"
   ]
  },
  {
   "cell_type": "code",
   "execution_count": null,
   "metadata": {
    "collapsed": true
   },
   "outputs": [],
   "source": [
    "'true' != 'yes'"
   ]
  },
  {
   "cell_type": "code",
   "execution_count": null,
   "metadata": {
    "collapsed": false
   },
   "outputs": [
    {
     "name": "stdout",
     "output_type": "stream",
     "text": []
    }
   ],
   "source": [
    "wait_list = []\n",
    "stat_left = len(station_id_list)\n",
    "from_left = 0\n",
    "from_iter = 0\n",
    "to_left = 0\n",
    "wait_cnt = 0\n",
    "\n",
    "#pbar1 = tqdm_notebook(total=100, desc='1st loop')\n",
    "#for i in range(10):\n",
    "#    pbar1.update(10)\n",
    "#pbar1.close()\n",
    "\n",
    "for station_id in tqdm_notebook(station_id_list, desc='Stations'):\n",
    "    #print(station_id)\n",
    "    df_station = df_events.loc[df_events['station_id(Station-ID)'] == station_id].copy()\n",
    "    #print(len(df_station))\n",
    "    df_station = df_station.sort_values(by=['timestamp:double']).reset_index(drop=True)\n",
    "    from_left = len(df_station)\n",
    "    from_iter = 1\n",
    "    #clear_output()\n",
    "    #print(\"stat_left: \"+str(stat_left)+\" \"+\"from_left: \"+str(from_left)+\" \"+\"to_left: \"+str(to_left)+\" \"+\"wait_cnt: \"+str(wait_cnt)+\" \")    \n",
    "    pBarFrom = tqdm_notebook(total=len(df_station), desc='From', leave=False)\n",
    "    for index_from, row_from in df_station.iterrows():\n",
    "        pBarFrom.update(1)        \n",
    "        if('Event;Arrival' == row_from[':LABEL']):\n",
    "            to_left = len(df_station) - from_iter\n",
    "            #clear_output()\n",
    "            #print(\"stat_left: \"+str(stat_left)+\" \"+\"from_left: \"+str(from_left)+\" \"+\"to_left: \"+str(to_left)+\" \"+\"wait_cnt: \"+str(wait_cnt)+\" \")            \n",
    "            pBarTo = tqdm_notebook(total=to_left, desc='To', leave=False)\n",
    "            for index_to, row_to in df_station.loc[index_from+1:,].iterrows():                \n",
    "                pBarTo.update(1)\n",
    "                if('Event;Departure' == row_to[':LABEL'] and (row_to['train_id(Train-ID)'] != row_from['train_id(Train-ID)'])):\n",
    "                    wait_time = row_to['timestamp:double'] - row_from['timestamp:double']\n",
    "                    if(wait_time > 0):\n",
    "                        if(wait_time < 60*60*3):\n",
    "                            event_from = row_from['event_id:ID(Event-ID)']\n",
    "                            event_to = row_to['event_id:ID(Event-ID)']\n",
    "                            wait_cnt += 1\n",
    "                            wait = (event_from, event_to, int(wait_time), \"WAITING\")\n",
    "                            wait_list.append(wait)\n",
    "                            #clear_output()\n",
    "                            #print(\"stat_left: \"+str(stat_left)+\" \"+\"from_left: \"+str(from_left)+\" \"+\"to_left: \"+str(to_left)+\" \"+\"wait_cnt: \"+str(wait_cnt)+\" \")\n",
    "                        else:\n",
    "                            #print(\"more then 3 hours, from: \"+str(row_from['timestamp:double'])+\" \"+\"to: \"+str(row_to['timestamp:double']))\n",
    "                            pBarTo.update(to_left)\n",
    "                            break\n",
    "                    #else:\n",
    "                        #print(\"less then 0, from: \"+str(row_from['timestamp:double'])+\" \"+\"to: \"+str(row_to['timestamp:double']))\n",
    "                #else:\n",
    "                    #print(\"type_to: \"+str(row_to[':LABEL']) + \" trains equal: \"+str(row_to['train_id(Train-ID)'] == row_from['train_id(Train-ID)']))\n",
    "                to_left -= 1\n",
    "                #clear_output()\n",
    "                #print(\"stat_left: \"+str(stat_left)+\" \"+\"from_left: \"+str(from_left)+\" \"+\"to_left: \"+str(to_left)+\" \"+\"wait_cnt: \"+str(wait_cnt)+\" \")\n",
    "            pBarTo.close()\n",
    "        #else:\n",
    "        #    print(\"type_from: \"+str(row_from[':LABEL']))            \n",
    "        from_left -= 1\n",
    "        from_iter += 1\n",
    "        #clear_output()\n",
    "        #print(\"stat_left: \"+str(stat_left)+\" \"+\"from_left: \"+str(from_left)+\" \"+\"to_left: \"+str(to_left)+\" \"+\"wait_cnt: \"+str(wait_cnt)+\" \")        \n",
    "    pBarFrom.close()\n",
    "    stat_left -= 1\n",
    "    #clear_output()\n",
    "    #print(\"stat_left: \"+str(stat_left)+\" \"+\"from_left: \"+str(from_left)+\" \"+\"to_left: \"+str(to_left)+\" \"+\"wait_cnt: \"+str(wait_cnt)+\" \")"
   ]
  },
  {
   "cell_type": "code",
   "execution_count": null,
   "metadata": {
    "collapsed": true
   },
   "outputs": [],
   "source": [
    "columns = [':START_ID(Event-ID)', ':END_ID(Event-ID)', 'wait_time:int', ':TYPE']\n",
    "df_waits = pd.DataFrame(wait_list, columns=columns)\n",
    "df_waits.to_csv('graph_waits.csv', index=False)"
   ]
  }
 ],
 "metadata": {
  "kernelspec": {
   "display_name": "Python 3",
   "language": "python",
   "name": "python3"
  },
  "language_info": {
   "codemirror_mode": {
    "name": "ipython",
    "version": 3
   },
   "file_extension": ".py",
   "mimetype": "text/x-python",
   "name": "python",
   "nbconvert_exporter": "python",
   "pygments_lexer": "ipython3",
   "version": "3.6.0"
  }
 },
 "nbformat": 4,
 "nbformat_minor": 2
}
