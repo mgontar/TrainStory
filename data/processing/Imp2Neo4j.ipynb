{
 "cells": [
  {
   "cell_type": "code",
   "execution_count": 1,
   "metadata": {
    "collapsed": true
   },
   "outputs": [],
   "source": [
    "import pandas as pd\n",
    "import numpy as np\n",
    "from neo4j.v1 import GraphDatabase"
   ]
  },
  {
   "cell_type": "code",
   "execution_count": 2,
   "metadata": {
    "collapsed": true
   },
   "outputs": [],
   "source": [
    "login = 'neo4j'\n",
    "password = '12345'"
   ]
  },
  {
   "cell_type": "code",
   "execution_count": 11,
   "metadata": {
    "collapsed": true
   },
   "outputs": [],
   "source": [
    "driver = GraphDatabase.driver(\"bolt://127.0.0.1:7687/db/data/\", \n",
    "                              auth=(login, password))"
   ]
  },
  {
   "cell_type": "code",
   "execution_count": 4,
   "metadata": {
    "collapsed": true
   },
   "outputs": [],
   "source": [
    "def clear_db(tx):\n",
    "    tx.run(\"MATCH (n) \"\n",
    "           \"DETACH DELETE n\")"
   ]
  },
  {
   "cell_type": "code",
   "execution_count": 5,
   "metadata": {
    "collapsed": true
   },
   "outputs": [],
   "source": [
    "def add_stop(tx, train_id, station_id, time):\n",
    "    tx.run(\"CREATE (a:Stop {train_id: $train_id, station_id: $station_id, time: $time})\",\n",
    "           train_id=train_id, station_id=station_id, time=time)"
   ]
  },
  {
   "cell_type": "code",
   "execution_count": 6,
   "metadata": {
    "collapsed": true
   },
   "outputs": [],
   "source": [
    "df_stops = pd.read_csv('stops_all.csv')"
   ]
  },
  {
   "cell_type": "code",
   "execution_count": 8,
   "metadata": {
    "collapsed": false
   },
   "outputs": [],
   "source": [
    "for index_stop, row_stop in df_stops.iterrows():\n",
    "    train_id = int(row_stop[\"train_id\"])\n",
    "    station_id = int(row_stop[\"station_id\"])\n",
    "    arrival_time = row_stop[\"arrival_time\"]\n",
    "    with driver.session() as session:\n",
    "        session.write_transaction(add_stop, train_id, station_id, arrival_time)"
   ]
  },
  {
   "cell_type": "code",
   "execution_count": 13,
   "metadata": {
    "collapsed": true
   },
   "outputs": [],
   "source": [
    "def print_stops_of(train_id):\n",
    "    with driver.session() as session:\n",
    "        with session.begin_transaction() as tx:\n",
    "            for record in tx.run(\"MATCH (a:Stop) \"\n",
    "                                 \"WHERE a.train_id = {train_id} \"\n",
    "                                 \"RETURN a\", train_id=train_id):\n",
    "                print(record)"
   ]
  },
  {
   "cell_type": "code",
   "execution_count": 14,
   "metadata": {
    "collapsed": false
   },
   "outputs": [
    {
     "name": "stdout",
     "output_type": "stream",
     "text": [
      "<Record a=<Node id=0 labels={'Stop'} properties={'train_id': 56927, 'station_id': 23000, 'time': nan}>>\n",
      "<Record a=<Node id=20 labels={'Stop'} properties={'train_id': 56927, 'station_id': 23206, 'time': '22:37'}>>\n",
      "<Record a=<Node id=21 labels={'Stop'} properties={'train_id': 56927, 'station_id': 23204, 'time': '22:53'}>>\n",
      "<Record a=<Node id=22 labels={'Stop'} properties={'train_id': 56927, 'station_id': 23098, 'time': '23:34'}>>\n",
      "<Record a=<Node id=23 labels={'Stop'} properties={'train_id': 56927, 'station_id': 23200, 'time': '00:41'}>>\n",
      "<Record a=<Node id=24 labels={'Stop'} properties={'train_id': 56927, 'station_id': 23150, 'time': '02:09'}>>\n",
      "<Record a=<Node id=25 labels={'Stop'} properties={'train_id': 56927, 'station_id': 22184, 'time': '03:51'}>>\n",
      "<Record a=<Node id=26 labels={'Stop'} properties={'train_id': 56927, 'station_id': 34763, 'time': '04:06'}>>\n",
      "<Record a=<Node id=27 labels={'Stop'} properties={'train_id': 56927, 'station_id': 22220, 'time': '04:30'}>>\n",
      "<Record a=<Node id=28 labels={'Stop'} properties={'train_id': 56927, 'station_id': 22130, 'time': '05:20'}>>\n",
      "<Record a=<Node id=29 labels={'Stop'} properties={'train_id': 56927, 'station_id': 22110, 'time': '06:35'}>>\n",
      "<Record a=<Node id=30 labels={'Stop'} properties={'train_id': 56927, 'station_id': 47125, 'time': '08:28'}>>\n",
      "<Record a=<Node id=31 labels={'Stop'} properties={'train_id': 56927, 'station_id': 22000, 'time': '08:46'}>>\n"
     ]
    }
   ],
   "source": [
    "print_stops_of(56927)"
   ]
  }
 ],
 "metadata": {
  "kernelspec": {
   "display_name": "Python 3",
   "language": "python",
   "name": "python3"
  },
  "language_info": {
   "codemirror_mode": {
    "name": "ipython",
    "version": 3
   },
   "file_extension": ".py",
   "mimetype": "text/x-python",
   "name": "python",
   "nbconvert_exporter": "python",
   "pygments_lexer": "ipython3",
   "version": "3.6.0"
  }
 },
 "nbformat": 4,
 "nbformat_minor": 2
}
