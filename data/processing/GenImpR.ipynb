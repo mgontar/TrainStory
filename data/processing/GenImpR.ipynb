{
 "cells": [
  {
   "cell_type": "code",
   "execution_count": 1,
   "metadata": {
    "collapsed": true
   },
   "outputs": [],
   "source": [
    "import pandas as pd\n",
    "import numpy as np\n",
    "from dateutil import parser\n",
    "from dateutil import parser\n",
    "from datetime import timedelta\n",
    "from datetime import date\n",
    "from datetime import datetime\n",
    "from datetime import time\n",
    "import glob, os\n",
    "from tqdm import tqdm, tnrange, tqdm_notebook"
   ]
  },
  {
   "cell_type": "code",
   "execution_count": 2,
   "metadata": {
    "collapsed": true
   },
   "outputs": [],
   "source": [
    "#station_id:ID(Station-ID),name,:LABEL\n",
    "df_stations = pd.read_csv('graph_stations.csv')\n",
    "station_id_list = df_stations['station_id:ID(Station-ID)'].unique()\n",
    "#event_id:ID(Event-ID),train_id(Train-ID),station_id(Station-ID),timestamp:double,:LABEL\n",
    "df_events = pd.read_csv('graph_events.csv')"
   ]
  },
  {
   "cell_type": "code",
   "execution_count": 3,
   "metadata": {
    "collapsed": false
   },
   "outputs": [],
   "source": [
    "station_list = []\n",
    "event_list = []\n",
    "station_index_from_event_id = {}\n",
    "station_index = 0\n",
    "for stat_index, stat_row in df_stations.iterrows():\n",
    "    station_id = stat_row['station_id:ID(Station-ID)']\n",
    "    station_name = stat_row['name']\n",
    "    station_list.append((station_index, station_name, station_id))\n",
    "    station_index += 1\n",
    "\n",
    "for stat_index, stat_name, stat_id in station_list:\n",
    "    #print(\"stat_index\" + str(stat_index) + \"stat_id\" + str(stat_id) + \"stat_name\" + str(stat_name))\n",
    "    df_stat_events = df_events.loc[df_events['station_id(Station-ID)'] == stat_id].copy()\n",
    "    for event_index, event_row in df_stat_events.iterrows():   \n",
    "        event_id = event_row['event_id:ID(Event-ID)']\n",
    "        event_ts = event_row['timestamp:double']\n",
    "        event_date_str = datetime.fromtimestamp(event_ts).strftime('%Y.%m.%d.%H:%M')\n",
    "        stat_id_event_date_str = str(stat_index)+\".\"+event_date_str\n",
    "        event_list.append((station_index, stat_id_event_date_str, event_id))\n",
    "        station_index_from_event_id[event_id] = station_index\n",
    "        station_index += 1\n",
    "station_list.extend(event_list)"
   ]
  },
  {
   "cell_type": "code",
   "execution_count": 9,
   "metadata": {
    "collapsed": true
   },
   "outputs": [],
   "source": [
    "columns = ['id', 'name', 'id_orig']\n",
    "df_stations_events = pd.DataFrame(station_list, columns=columns)\n",
    "df_stations_events.to_csv('r_stations_events.csv', index=False)"
   ]
  },
  {
   "cell_type": "code",
   "execution_count": 5,
   "metadata": {
    "collapsed": true
   },
   "outputs": [],
   "source": [
    "#:START_ID(Event-ID),train_id(Train-ID),travel_time:int,:END_ID(Event-ID),:TYPE\n",
    "#(Event-ID) = str(train_id)+\":\"+str(row_to.station_id)+\":\"+str(int(ts_arr))+\":arr\"\n",
    "df_trips = pd.read_csv('graph_trips.csv')"
   ]
  },
  {
   "cell_type": "code",
   "execution_count": 1,
   "metadata": {
    "collapsed": false
   },
   "outputs": [
    {
     "data": {
      "text/plain": [
       "123"
      ]
     },
     "execution_count": 1,
     "metadata": {},
     "output_type": "execute_result"
    }
   ],
   "source": []
  },
  {
   "cell_type": "code",
   "execution_count": 6,
   "metadata": {
    "collapsed": false
   },
   "outputs": [
    {
     "name": "stdout",
     "output_type": "stream",
     "text": [
      "\r"
     ]
    }
   ],
   "source": [
    "connections_list = []\n",
    "pBarEvent = tqdm_notebook(total=len(df_trips), desc='Events', leave=False)\n",
    "for trip_index, trip_row in df_trips.iterrows():\n",
    "    pBarEvent.update(1)\n",
    "    event_from_id = trip_row[':START_ID(Event-ID)']\n",
    "    event_to_id = trip_row[':END_ID(Event-ID)']\n",
    "    travel_time = trip_row['travel_time:int']\n",
    "    stat_from_id = station_index_from_event_id[event_from_id]\n",
    "    stat_to_id = station_index_from_event_id[event_to_id]\n",
    "    connections_list.append((stat_from_id, stat_to_id, int(travel_time)))\n",
    "pBarEvent.close()"
   ]
  },
  {
   "cell_type": "code",
   "execution_count": 7,
   "metadata": {
    "collapsed": true
   },
   "outputs": [],
   "source": [
    "columns = ['st_from', 'st_to', 'weight']\n",
    "df_connections = pd.DataFrame(connections_list, columns=columns)\n",
    "df_connections.to_csv('r_connections_travel.csv', index=False)"
   ]
  },
  {
   "cell_type": "code",
   "execution_count": 8,
   "metadata": {
    "collapsed": false
   },
   "outputs": [
    {
     "name": "stdout",
     "output_type": "stream",
     "text": [
      "\r"
     ]
    }
   ],
   "source": [
    "connections_list = []\n",
    "#:START_ID(Event-ID),:END_ID(Event-ID),wait_time:int,:TYPE\n",
    "pBarFrom = tqdm_notebook(total=len(glob.glob(\"waits\\*.csv\")), desc='Files', leave=False)\n",
    "for counter, file in enumerate(glob.glob(\"waits\\*.csv\")):\n",
    "    pBarFrom.update(1)\n",
    "    df_waits = pd.read_csv(file)\n",
    "    pBarEvent = tqdm_notebook(total=len(df_waits), desc='Events', leave=False)\n",
    "    for wait_index, wait_row in df_waits.iterrows():\n",
    "        pBarEvent.update(1)\n",
    "        event_from_id = wait_row[':START_ID(Event-ID)']\n",
    "        event_to_id = wait_row[':END_ID(Event-ID)']\n",
    "        travel_time = wait_row['wait_time:int']\n",
    "        stat_from_id = station_index_from_event_id[event_from_id]\n",
    "        stat_to_id = station_index_from_event_id[event_to_id]\n",
    "        connections_list.append((stat_from_id, stat_to_id, int(travel_time)))\n",
    "    pBarEvent.close()\n",
    "pBarFrom.close()"
   ]
  },
  {
   "cell_type": "code",
   "execution_count": 9,
   "metadata": {
    "collapsed": true
   },
   "outputs": [],
   "source": [
    "columns = ['st_from', 'st_to', 'weight']\n",
    "df_connections = pd.DataFrame(connections_list, columns=columns)\n",
    "df_connections.to_csv('r_connections_wait.csv', index=False)"
   ]
  }
 ],
 "metadata": {
  "kernelspec": {
   "display_name": "Python 3",
   "language": "python",
   "name": "python3"
  },
  "language_info": {
   "codemirror_mode": {
    "name": "ipython",
    "version": 3
   },
   "file_extension": ".py",
   "mimetype": "text/x-python",
   "name": "python",
   "nbconvert_exporter": "python",
   "pygments_lexer": "ipython3",
   "version": "3.6.0"
  }
 },
 "nbformat": 4,
 "nbformat_minor": 2
}
