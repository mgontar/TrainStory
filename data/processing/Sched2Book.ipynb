{
 "cells": [
  {
   "cell_type": "code",
   "execution_count": 1,
   "metadata": {
    "collapsed": true
   },
   "outputs": [],
   "source": [
    "import pandas as pd\n",
    "import numpy as np"
   ]
  },
  {
   "cell_type": "code",
   "execution_count": 2,
   "metadata": {
    "collapsed": true
   },
   "outputs": [],
   "source": [
    "df = pd.read_csv('booking_stations_all.csv', header = None)\n",
    "df.columns = [\"id\", \"name\"]\n",
    "df.to_csv('booking_stations_all.csv', index=False, encoding='utf-8')"
   ]
  },
  {
   "cell_type": "code",
   "execution_count": 3,
   "metadata": {
    "collapsed": true
   },
   "outputs": [],
   "source": [
    "df_stations_sched = pd.read_csv('stations_all.csv')\n",
    "df_stations_book = pd.read_csv('booking_stations_all.csv')"
   ]
  },
  {
   "cell_type": "code",
   "execution_count": 4,
   "metadata": {
    "collapsed": true
   },
   "outputs": [],
   "source": [
    "df_stations_sched['name'].replace('Ім.тараса  Шевченка', 'Ім. Тараса  Шевченка', inplace=True)\n",
    "df_stations_sched['name'].replace('Просяна Ім.приклонського В.в.', \n",
    "                                  'Просяна Ім. Приклонського В. В.', inplace=True)\n",
    "df_stations_sched['name'].replace('Ім.бориса Олійника', 'Ім. Бориса Олійника', inplace=True)\n",
    "df_stations_sched['name'].replace('Ім.олега Крючкова', 'Ім. Олега Крючкова', inplace=True)"
   ]
  },
  {
   "cell_type": "code",
   "execution_count": 10,
   "metadata": {
    "collapsed": false
   },
   "outputs": [
    {
     "name": "stdout",
     "output_type": "stream",
     "text": [
      "Галич\n",
      "Empty DataFrame\n",
      "Columns: [id, name]\n",
      "Index: []\n",
      "Бурштин\n",
      "Empty DataFrame\n",
      "Columns: [id, name]\n",
      "Index: []\n"
     ]
    }
   ],
   "source": [
    "# For each row in schedule stations\n",
    "for index_sched, row_sched in df_stations_sched[1:3].iterrows():\n",
    "    print(row_sched['name'])\n",
    "    print(df_stations_book[df_stations_book['name'].str.contains(row_sched['name'])])"
   ]
  }
 ],
 "metadata": {
  "kernelspec": {
   "display_name": "Python 3",
   "language": "python",
   "name": "python3"
  },
  "language_info": {
   "codemirror_mode": {
    "name": "ipython",
    "version": 3
   },
   "file_extension": ".py",
   "mimetype": "text/x-python",
   "name": "python",
   "nbconvert_exporter": "python",
   "pygments_lexer": "ipython3",
   "version": "3.6.0"
  }
 },
 "nbformat": 4,
 "nbformat_minor": 2
}
